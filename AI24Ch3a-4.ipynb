{
  "nbformat": 4,
  "nbformat_minor": 0,
  "metadata": {
    "colab": {
      "provenance": []
    },
    "kernelspec": {
      "name": "python3",
      "display_name": "Python 3"
    }
  },
  "cells": [
    {
      "cell_type": "code",
      "metadata": {
        "id": "Gbe5KqWcISTq"
      },
      "source": [
        "import random\n",
        "import heapq"
      ],
      "execution_count": 186,
      "outputs": []
    },
    {
      "cell_type": "markdown",
      "metadata": {
        "id": "PHnbnN2uV8zr"
      },
      "source": [
        "# Tile Sliding Domain: Initial State Space"
      ]
    },
    {
      "cell_type": "code",
      "metadata": {
        "id": "jPCNOa4W-5yq"
      },
      "source": [
        "StateDimension=4\n",
        "InitialState = [1,2,3,4,5,6,7,8,9,10,11,12,13,0,14,15]\n",
        "GoalState=[1,2,3,4,5,6,7,8,9,10,11,12,13,14,15,0]\n",
        "Actions = lambda s: ['u', 'd', 'l', 'r']\n",
        "Opposite=dict([('u','d'),('d','u'),('l','r'),('r','l'), (None, None)])"
      ],
      "execution_count": 187,
      "outputs": []
    },
    {
      "cell_type": "code",
      "metadata": {
        "id": "XjnzkkC8_HE8"
      },
      "source": [
        "def Result(state, action):\n",
        "  i = state.index(0)\n",
        "  newState = list(state)\n",
        "  row,col=i//StateDimension, i % StateDimension\n",
        "  if ( (action=='u' and row==0) or\n",
        "       (action=='d' and row==StateDimension-1) or\n",
        "       (action=='l' and col==0) or\n",
        "       (action=='r' and col==StateDimension-1)):\n",
        "      return newState\n",
        "  if action=='u':\n",
        "    l,r = row*StateDimension+col, (row-1)*StateDimension+col\n",
        "  elif action=='d':\n",
        "    l,r = row*StateDimension+col, (row+1)*StateDimension+col\n",
        "  elif action=='l':\n",
        "    l,r = row*StateDimension+col, row*StateDimension+col-1\n",
        "  elif action=='r' :\n",
        "    l,r = row*StateDimension+col, row*StateDimension+col+1\n",
        "  newState[l], newState[r] = newState[r], newState[l]\n",
        "  return newState\n",
        "\n",
        "def PrintState(s):\n",
        "  for i in range(0,len(s),StateDimension):\n",
        "    print(s[i:i+StateDimension])\n",
        "\n",
        "def LegalMove(state, action):\n",
        "  i = state.index(0)\n",
        "  row,col=i//StateDimension, i % StateDimension\n",
        "  newState = state.copy()\n",
        "  if ( (action=='u' and row==0) or\n",
        "       (action=='d' and row==StateDimension-1) or\n",
        "       (action=='l' and col==0) or\n",
        "       (action=='r' and col==StateDimension-1)):\n",
        "      return False\n",
        "  return True\n"
      ],
      "execution_count": 188,
      "outputs": []
    },
    {
      "cell_type": "code",
      "metadata": {
        "id": "4z6hE5HsNwHf"
      },
      "source": [
        "def SingleTileManhattanDistance(tile, left, right):\n",
        "  leftIndex = left.index(tile)\n",
        "  rightIndex = right.index(tile)\n",
        "  return (abs(leftIndex//StateDimension-rightIndex//StateDimension) +\n",
        "          abs(leftIndex%StateDimension-rightIndex%StateDimension))\n",
        "\n",
        "def ManhattanDistance(left, right):\n",
        "  distances = [SingleTileManhattanDistance(tile, left, right)\n",
        "     for tile in range(1, StateDimension**2)]\n",
        "  ### print (\"Distances= \", distances)\n",
        "  return sum(distances)\n"
      ],
      "execution_count": 189,
      "outputs": []
    },
    {
      "cell_type": "code",
      "metadata": {
        "id": "7PE_gAdLSY_z"
      },
      "source": [
        "def OutOfPlace(left, right):\n",
        "  distances = [left[i]!=right[i] and right[i] != 0\n",
        "     for i in range(StateDimension**2)]\n",
        "  return sum(distances)"
      ],
      "execution_count": 190,
      "outputs": []
    },
    {
      "cell_type": "code",
      "metadata": {
        "colab": {
          "base_uri": "https://localhost:8080/"
        },
        "id": "bE7MrTAI_t6i",
        "outputId": "c9920f05-a1e1-4569-e4e6-42e44f503c48"
      },
      "source": [
        "PrintState(InitialState)"
      ],
      "execution_count": 191,
      "outputs": [
        {
          "output_type": "stream",
          "name": "stdout",
          "text": [
            "[1, 2, 3, 4]\n",
            "[5, 6, 7, 8]\n",
            "[9, 10, 11, 12]\n",
            "[13, 0, 14, 15]\n"
          ]
        }
      ]
    },
    {
      "cell_type": "code",
      "metadata": {
        "colab": {
          "base_uri": "https://localhost:8080/"
        },
        "id": "wRULKFeXVcp3",
        "outputId": "0699e8e3-81ba-4e69-ec19-392e23bd865c"
      },
      "source": [
        "PrintState(GoalState)"
      ],
      "execution_count": 192,
      "outputs": [
        {
          "output_type": "stream",
          "name": "stdout",
          "text": [
            "[1, 2, 3, 4]\n",
            "[5, 6, 7, 8]\n",
            "[9, 10, 11, 12]\n",
            "[13, 14, 15, 0]\n"
          ]
        }
      ]
    },
    {
      "cell_type": "code",
      "metadata": {
        "colab": {
          "base_uri": "https://localhost:8080/"
        },
        "id": "Ke12RA7cPaS9",
        "outputId": "b2418ea2-6759-4d4c-f276-f955c1cc2673"
      },
      "source": [
        "print(\"ManhattanDistance=  \", ManhattanDistance(InitialState, GoalState))\n",
        "print(\"OutOfPlace= \", OutOfPlace(InitialState, GoalState))\n"
      ],
      "execution_count": 193,
      "outputs": [
        {
          "output_type": "stream",
          "name": "stdout",
          "text": [
            "ManhattanDistance=   2\n",
            "OutOfPlace=  2\n"
          ]
        }
      ]
    },
    {
      "cell_type": "code",
      "metadata": {
        "colab": {
          "base_uri": "https://localhost:8080/"
        },
        "id": "j-EYW_gqGZtl",
        "outputId": "1df0be30-eb4e-4b9f-c2ae-377684f7c4eb"
      },
      "source": [
        "PrintState(InitialState)\n",
        "print()\n",
        "state1 = Result(InitialState, 'u')\n",
        "PrintState(state1)\n",
        "print()\n",
        "state1 = Result(state1, 'r')\n",
        "PrintState(state1)"
      ],
      "execution_count": 194,
      "outputs": [
        {
          "output_type": "stream",
          "name": "stdout",
          "text": [
            "[1, 2, 3, 4]\n",
            "[5, 6, 7, 8]\n",
            "[9, 10, 11, 12]\n",
            "[13, 0, 14, 15]\n",
            "\n",
            "[1, 2, 3, 4]\n",
            "[5, 6, 7, 8]\n",
            "[9, 0, 11, 12]\n",
            "[13, 10, 14, 15]\n",
            "\n",
            "[1, 2, 3, 4]\n",
            "[5, 6, 7, 8]\n",
            "[9, 11, 0, 12]\n",
            "[13, 10, 14, 15]\n"
          ]
        }
      ]
    },
    {
      "cell_type": "markdown",
      "metadata": {
        "id": "Mp0tnomdTFoC"
      },
      "source": [
        "# Random Walk\n",
        "\n",
        "Take some random moves from a state and return the new state and the sequence of moves.\n",
        "\n",
        "Do not include moves undoing last move, or having no effect."
      ]
    },
    {
      "cell_type": "code",
      "metadata": {
        "id": "1RVh0-S9IFiy"
      },
      "source": [
        "def RandomWalk(state, steps):\n",
        "  actionSequence = []\n",
        "  actionLast = None\n",
        "  for i in range(steps):\n",
        "    action = None\n",
        "    while action==None:\n",
        "      action = random.choice(Actions(state))\n",
        "      action = action if (LegalMove(state, action)\n",
        "          and action!= Opposite[actionLast]) else None\n",
        "    actionLast = action\n",
        "    state = Result(state, action)\n",
        "    actionSequence.append(action)\n",
        "  return state, actionSequence\n",
        "\n"
      ],
      "execution_count": 195,
      "outputs": []
    },
    {
      "cell_type": "code",
      "metadata": {
        "colab": {
          "base_uri": "https://localhost:8080/"
        },
        "id": "wcn5POkxKlER",
        "outputId": "a7f2f388-3454-4561-c862-1f869e5aa7a1"
      },
      "source": [
        "state1, sol = RandomWalk(InitialState, 150)\n",
        "PrintState(state1)\n",
        "print (ManhattanDistance(state1, GoalState), sol)\n",
        "\n",
        "state1, sol = RandomWalk(InitialState, 5)\n",
        "PrintState(InitialState)\n",
        "print (sol)\n",
        "PrintState(state1)"
      ],
      "execution_count": 217,
      "outputs": [
        {
          "output_type": "stream",
          "name": "stdout",
          "text": [
            "[6, 13, 0, 15]\n",
            "[2, 9, 5, 7]\n",
            "[12, 10, 14, 4]\n",
            "[3, 1, 8, 11]\n",
            "38 ['l', 'u', 'u', 'u', 'r', 'd', 'r', 'u', 'r', 'd', 'l', 'd', 'd', 'r', 'u', 'u', 'l', 'd', 'r', 'd', 'l', 'l', 'l', 'u', 'u', 'u', 'r', 'r', 'r', 'd', 'l', 'u', 'l', 'd', 'd', 'r', 'r', 'u', 'u', 'l', 'l', 'd', 'r', 'd', 'd', 'r', 'u', 'l', 'd', 'l', 'l', 'u', 'r', 'd', 'l', 'u', 'r', 'r', 'u', 'l', 'u', 'l', 'd', 'r', 'd', 'l', 'd', 'r', 'u', 'r', 'd', 'l', 'l', 'u', 'r', 'u', 'u', 'r', 'd', 'd', 'd', 'r', 'u', 'u', 'l', 'u', 'r', 'd', 'l', 'u', 'l', 'd', 'l', 'u', 'r', 'd', 'd', 'd', 'r', 'u', 'r', 'u', 'u', 'l', 'd', 'd', 'r', 'd', 'l', 'u', 'u', 'l', 'u', 'r', 'r', 'd', 'd', 'd', 'l', 'l', 'u', 'r', 'u', 'u', 'r', 'd', 'd', 'l', 'l', 'u', 'u', 'r', 'r', 'd', 'd', 'l', 'u', 'l', 'u', 'r', 'r', 'd', 'l', 'd', 'd', 'r', 'u', 'u', 'l', 'u']\n",
            "[1, 2, 3, 4]\n",
            "[5, 6, 7, 8]\n",
            "[9, 10, 11, 12]\n",
            "[13, 0, 14, 15]\n",
            "['u', 'l', 'd', 'r', 'u']\n",
            "[1, 2, 3, 4]\n",
            "[5, 6, 7, 8]\n",
            "[13, 0, 11, 12]\n",
            "[10, 9, 14, 15]\n"
          ]
        }
      ]
    },
    {
      "cell_type": "code",
      "metadata": {
        "id": "Rc_8ohYvNIq-"
      },
      "source": [
        "def ApplyMoves(actions, state):\n",
        "  for action in actions:\n",
        "    state = Result(state, action)\n",
        "  return state"
      ],
      "execution_count": 197,
      "outputs": []
    },
    {
      "cell_type": "code",
      "metadata": {
        "colab": {
          "base_uri": "https://localhost:8080/"
        },
        "id": "Wv7MGqh8NXqy",
        "outputId": "7d9ab355-35a6-406f-aa7e-cdcd31d2c7e3"
      },
      "source": [
        "PrintState(InitialState)\n",
        "print(['r','r'])\n",
        "PrintState(ApplyMoves(['r','r'],InitialState))"
      ],
      "execution_count": 198,
      "outputs": [
        {
          "output_type": "stream",
          "name": "stdout",
          "text": [
            "[1, 2, 3, 4]\n",
            "[5, 6, 7, 8]\n",
            "[9, 10, 11, 12]\n",
            "[13, 0, 14, 15]\n",
            "['r', 'r']\n",
            "[1, 2, 3, 4]\n",
            "[5, 6, 7, 8]\n",
            "[9, 10, 11, 12]\n",
            "[13, 14, 15, 0]\n"
          ]
        }
      ]
    },
    {
      "cell_type": "code",
      "metadata": {
        "id": "_VS2KzQbOHlO"
      },
      "source": [
        "def ReverseMoves(actions):\n",
        "  ret = [Opposite[a] for a in actions]\n",
        "  ret.reverse()\n",
        "  return ret"
      ],
      "execution_count": 199,
      "outputs": []
    },
    {
      "cell_type": "code",
      "metadata": {
        "colab": {
          "base_uri": "https://localhost:8080/"
        },
        "id": "tp_pqYBXOsqS",
        "outputId": "e8ea0af0-014c-40b0-f2d4-e5cfbe6a48a6"
      },
      "source": [
        "state1, sol = RandomWalk(GoalState, 5)\n",
        "PrintState(state1)\n",
        "print (sol)\n",
        "print(ReverseMoves(sol))\n",
        "PrintState (ApplyMoves(ReverseMoves(sol), state1))\n"
      ],
      "execution_count": 216,
      "outputs": [
        {
          "output_type": "stream",
          "name": "stdout",
          "text": [
            "[1, 0, 2, 4]\n",
            "[5, 6, 3, 8]\n",
            "[9, 10, 7, 12]\n",
            "[13, 14, 11, 15]\n",
            "['l', 'u', 'u', 'u', 'l']\n",
            "['r', 'd', 'd', 'd', 'r']\n",
            "[1, 2, 3, 4]\n",
            "[5, 6, 7, 8]\n",
            "[9, 10, 11, 12]\n",
            "[13, 14, 15, 0]\n"
          ]
        }
      ]
    },
    {
      "cell_type": "markdown",
      "metadata": {
        "id": "8ABBDMJLROdo"
      },
      "source": [
        "## Problem Class\n",
        "\n",
        "INITIAL = InitialState  \n",
        "IsGoal = Goal Test  \n",
        "Actions = Actions List  \n",
        "Result = Action Behavior  \n",
        "ActionCost = Action Cost  "
      ]
    },
    {
      "cell_type": "code",
      "metadata": {
        "id": "fo6sq7myRQpE"
      },
      "source": [
        "class Problem(object): pass"
      ],
      "execution_count": 201,
      "outputs": []
    },
    {
      "cell_type": "markdown",
      "metadata": {
        "id": "aAHXlWteQ2LN"
      },
      "source": [
        "## Node"
      ]
    },
    {
      "cell_type": "code",
      "metadata": {
        "id": "URRYlfS9Q3vx"
      },
      "source": [
        "class Node(object):\n",
        "  def __init__(self, state, parent=None, action=None, path_cost=0 ):\n",
        "    self.State=state\n",
        "    self.Parent=parent\n",
        "    self.Action=action\n",
        "    self.PathCost = path_cost\n",
        "\n",
        "  def __str__(self):\n",
        "    action = \"<none>\" if not self.Action else self.Action\n",
        "    return str(self.State) + \", \" + action\n",
        "  def __repr__(self):\n",
        "    action = \"<none>\" if not self.Action else self.Action\n",
        "    return str(self.State) + \", \" + action\n",
        "  def __lt__(self, other):\n",
        "    return self.PathCost < other.PathCost;"
      ],
      "execution_count": 202,
      "outputs": []
    },
    {
      "cell_type": "markdown",
      "metadata": {
        "id": "LpzKnx4rkxL9"
      },
      "source": [
        "## Expand"
      ]
    },
    {
      "cell_type": "code",
      "metadata": {
        "id": "CRj9UnyHdDo_"
      },
      "source": [
        "def Expand(problem, node):\n",
        "  ret = []\n",
        "  s = node.State\n",
        "  for action in problem.Actions(s):\n",
        "    sPrime = problem.Result(s, action)\n",
        "    cost =node.PathCost + problem.ActionCost(s,action,sPrime)\n",
        "    ret.append(Node(sPrime, node, action, cost))\n",
        "  return ret\n"
      ],
      "execution_count": 203,
      "outputs": []
    },
    {
      "cell_type": "markdown",
      "metadata": {
        "id": "Ee2ZYxjVlBSl"
      },
      "source": [
        "## Breadth-First Search"
      ]
    },
    {
      "cell_type": "code",
      "metadata": {
        "id": "DZoCxoGzkt4E"
      },
      "source": [
        "def BreadthFirstSearch(problem):\n",
        "  node = Node(tuple(problem.INITIAL))\n",
        "  if problem.IsGoal(node.State):\n",
        "    return node, 0\n",
        "  Frontier = []\n",
        "  Frontier.append(node)\n",
        "  reached = set()\n",
        "  reached.add(tuple(problem.INITIAL))\n",
        "  nodesExpanded = 0\n",
        "  while (Frontier):\n",
        "    ### print([str(n) for n in Frontier])\n",
        "    node = Frontier.pop(0)\n",
        "    ### print(node)\n",
        "    for child in Expand(problem, node):\n",
        "      s = tuple(child.State)\n",
        "      ### print (s, \"IsGoal=\", problem.IsGoal(s))\n",
        "      if problem.IsGoal(s):\n",
        "        return child, nodesExpanded\n",
        "      if s not in reached:\n",
        "        reached.add(s)\n",
        "        Frontier.append(child)\n",
        "    nodesExpanded += 1\n",
        "    if nodesExpanded > 500000:\n",
        "      break;\n",
        "  return None, nodesExpanded"
      ],
      "execution_count": 204,
      "outputs": []
    },
    {
      "cell_type": "markdown",
      "metadata": {
        "id": "AoX48XG6lFOf"
      },
      "source": [
        "## Best-First Search"
      ]
    },
    {
      "cell_type": "code",
      "metadata": {
        "id": "lUIAdr_qa1KT"
      },
      "source": [
        "def BestFirstSearch(problem, f):\n",
        "  node = Node(tuple(problem.INITIAL))\n",
        "  Frontier = []\n",
        "  heapq.heappush(Frontier,(f(node), node))\n",
        "  reached = {}\n",
        "  reached[tuple(problem.INITIAL)]=node\n",
        "  nodesExpanded = 0\n",
        "  while (Frontier):\n",
        "    ##print([(x, str(n)) for (x,n) in Frontier])\n",
        "    fValue, node = heapq.heappop(Frontier)\n",
        "    ##print (node.State, \"IsGoal=\", problem.IsGoal(tuple(node.State)))\n",
        "    if problem.IsGoal(tuple(node.State)):\n",
        "      return node, nodesExpanded    ### print(node)\n",
        "    for child in Expand(problem, node):\n",
        "      s = tuple(child.State)\n",
        "      if s not in reached or child.PathCost < reached[s].PathCost:\n",
        "        reached[s] = child\n",
        "        heapq.heappush(Frontier, (f(child), child))\n",
        "    nodesExpanded += 1\n",
        "    if nodesExpanded > 500000:\n",
        "      break;\n",
        "  return None, nodesExpanded"
      ],
      "execution_count": 205,
      "outputs": []
    },
    {
      "cell_type": "markdown",
      "metadata": {
        "id": "kRjolRYslOa4"
      },
      "source": [
        "## Problem 1"
      ]
    },
    {
      "cell_type": "code",
      "metadata": {
        "colab": {
          "base_uri": "https://localhost:8080/"
        },
        "id": "dLWDIbmsRGY3",
        "outputId": "9adbd83f-10a2-47ea-aabf-75d2df24eb3d"
      },
      "source": [
        "TileSliding = Problem()\n",
        "TileSliding.INITIAL = InitialState\n",
        "TileSliding.IsGoal = lambda s: s==(1,2,3,4,5,6,7,8,9,10,11,12,13,14,15,0)\n",
        "TileSliding.Actions = Actions\n",
        "TileSliding.Result=Result\n",
        "TileSliding.ActionCost = lambda s, a, sPrime: 1\n",
        "print( TileSliding.IsGoal((1,2,3,4,5,6,7,8,9,10,11,12,13,14,15,0)) )\n",
        "print( Node(InitialState) )\n",
        "print(1+TileSliding.ActionCost(1,2,3))"
      ],
      "execution_count": 206,
      "outputs": [
        {
          "output_type": "stream",
          "name": "stdout",
          "text": [
            "True\n",
            "[1, 2, 3, 4, 5, 6, 7, 8, 9, 10, 11, 12, 13, 0, 14, 15], <none>\n",
            "2\n"
          ]
        }
      ]
    },
    {
      "cell_type": "code",
      "metadata": {
        "colab": {
          "base_uri": "https://localhost:8080/"
        },
        "id": "6VoIEO4c1gHz",
        "outputId": "789486ea-a9c4-425c-ce74-38ca9c1d6573"
      },
      "source": [
        "TileSliding.INITIAL = [1,2,3,4,5,6,7,8,9,10,11,12,13,0,14,15]\n",
        "ret, cost = BreadthFirstSearch(TileSliding)\n",
        "print (ret, cost)"
      ],
      "execution_count": 207,
      "outputs": [
        {
          "output_type": "stream",
          "name": "stdout",
          "text": [
            "[1, 2, 3, 4, 5, 6, 7, 8, 9, 10, 11, 12, 13, 14, 15, 0], r 3\n"
          ]
        }
      ]
    },
    {
      "cell_type": "code",
      "metadata": {
        "id": "3hsBKY7Fle3w"
      },
      "source": [
        "def Solution(node):\n",
        "  if node.Parent==None:\n",
        "    return []\n",
        "  return Solution(node.Parent) + [node.Action]\n"
      ],
      "execution_count": 208,
      "outputs": []
    },
    {
      "cell_type": "code",
      "metadata": {
        "colab": {
          "base_uri": "https://localhost:8080/"
        },
        "id": "rtr7Vr84NAfY",
        "outputId": "0956912a-4926-4b1d-e20a-3a82af5c2ecc"
      },
      "source": [
        "sol = Solution(ret)\n",
        "print (sol)\n",
        "print (TileSliding.INITIAL)\n",
        "print (ApplyMoves(sol, TileSliding.INITIAL))"
      ],
      "execution_count": 209,
      "outputs": [
        {
          "output_type": "stream",
          "name": "stdout",
          "text": [
            "['r', 'r']\n",
            "[1, 2, 3, 4, 5, 6, 7, 8, 9, 10, 11, 12, 13, 0, 14, 15]\n",
            "[1, 2, 3, 4, 5, 6, 7, 8, 9, 10, 11, 12, 13, 14, 15, 0]\n"
          ]
        }
      ]
    },
    {
      "cell_type": "code",
      "metadata": {
        "colab": {
          "base_uri": "https://localhost:8080/"
        },
        "id": "RDE3dNP8NOU7",
        "outputId": "27761c2d-dff2-4ddc-eb00-ab277d5cdcd6"
      },
      "source": [
        "TileSliding.INITIAL = [1,2,3,4,5,6,7,8,9,10,11,12,13,0,14,15]\n",
        "ret, cost = BreadthFirstSearch(TileSliding)\n",
        "print (ret, cost)"
      ],
      "execution_count": 210,
      "outputs": [
        {
          "output_type": "stream",
          "name": "stdout",
          "text": [
            "[1, 2, 3, 4, 5, 6, 7, 8, 9, 10, 11, 12, 13, 14, 15, 0], r 3\n"
          ]
        }
      ]
    },
    {
      "cell_type": "code",
      "metadata": {
        "colab": {
          "base_uri": "https://localhost:8080/"
        },
        "id": "YBkLupiYNyZ_",
        "outputId": "359cf132-cae2-43f8-fcfb-b5e3f9607e3d"
      },
      "source": [
        "sol = Solution(ret)\n",
        "print (sol)\n",
        "print (TileSliding.INITIAL)\n",
        "print (ApplyMoves(sol, TileSliding.INITIAL))"
      ],
      "execution_count": 211,
      "outputs": [
        {
          "output_type": "stream",
          "name": "stdout",
          "text": [
            "['r', 'r']\n",
            "[1, 2, 3, 4, 5, 6, 7, 8, 9, 10, 11, 12, 13, 0, 14, 15]\n",
            "[1, 2, 3, 4, 5, 6, 7, 8, 9, 10, 11, 12, 13, 14, 15, 0]\n"
          ]
        }
      ]
    },
    {
      "cell_type": "code",
      "metadata": {
        "colab": {
          "base_uri": "https://localhost:8080/"
        },
        "id": "GXdlMLxwhxMF",
        "outputId": "39768d41-e0eb-4d4e-c836-c36d8e22de2c"
      },
      "source": [
        "UniformCostF = lambda n: n.PathCost\n",
        "AStarF = lambda n: n.PathCost+ManhattanDistance(n.State, GoalState)\n",
        "TileSliding.INITIAL = [1,2,3,4,5,6,7,8,9,10,11,12,13,0,14,15]\n",
        "ret, cost = BestFirstSearch(TileSliding, UniformCostF)\n",
        "print (ret)\n",
        "sol = Solution(ret)\n",
        "print (sol)\n",
        "print (TileSliding.INITIAL)\n",
        "print (ApplyMoves(sol, TileSliding.INITIAL))\n",
        "print (\"Nodes Expanded=\", cost)"
      ],
      "execution_count": 212,
      "outputs": [
        {
          "output_type": "stream",
          "name": "stdout",
          "text": [
            "[1, 2, 3, 4, 5, 6, 7, 8, 9, 10, 11, 12, 13, 14, 15, 0], r\n",
            "['r', 'r']\n",
            "[1, 2, 3, 4, 5, 6, 7, 8, 9, 10, 11, 12, 13, 0, 14, 15]\n",
            "[1, 2, 3, 4, 5, 6, 7, 8, 9, 10, 11, 12, 13, 14, 15, 0]\n",
            "Nodes Expanded= 6\n"
          ]
        }
      ]
    },
    {
      "cell_type": "markdown",
      "metadata": {
        "id": "bu6svMo0n9Pc"
      },
      "source": [
        "# Problem 2"
      ]
    },
    {
      "cell_type": "code",
      "metadata": {
        "colab": {
          "base_uri": "https://localhost:8080/"
        },
        "id": "rXzEVLYEn8m1",
        "outputId": "ecfef0d6-34fb-40ed-de66-eb8d68b60bb0"
      },
      "source": [
        "state1, sol = RandomWalk(GoalState, 300)\n",
        "PrintState(state1)\n",
        "print (sol)\n",
        "print(ReverseMoves(sol))\n",
        "PrintState (ApplyMoves(ReverseMoves(sol), state1))"
      ],
      "execution_count": 213,
      "outputs": [
        {
          "output_type": "stream",
          "name": "stdout",
          "text": [
            "[8, 5, 10, 4]\n",
            "[7, 0, 1, 3]\n",
            "[14, 15, 12, 13]\n",
            "[9, 2, 6, 11]\n",
            "['u', 'u', 'l', 'd', 'r', 'd', 'l', 'l', 'u', 'r', 'r', 'd', 'l', 'u', 'u', 'r', 'd', 'd', 'l', 'l', 'l', 'u', 'r', 'd', 'r', 'r', 'u', 'u', 'u', 'l', 'l', 'l', 'd', 'r', 'r', 'd', 'r', 'd', 'l', 'l', 'l', 'u', 'u', 'r', 'u', 'r', 'r', 'd', 'l', 'l', 'l', 'u', 'r', 'r', 'r', 'd', 'l', 'u', 'r', 'd', 'd', 'd', 'l', 'u', 'u', 'l', 'u', 'r', 'd', 'r', 'u', 'l', 'l', 'd', 'd', 'd', 'r', 'r', 'u', 'l', 'd', 'l', 'l', 'u', 'r', 'r', 'u', 'u', 'r', 'd', 'l', 'd', 'd', 'r', 'u', 'u', 'l', 'd', 'r', 'd', 'l', 'l', 'l', 'u', 'r', 'r', 'd', 'l', 'u', 'l', 'u', 'r', 'd', 'r', 'u', 'r', 'd', 'd', 'l', 'u', 'u', 'l', 'u', 'l', 'd', 'r', 'd', 'd', 'l', 'u', 'u', 'r', 'd', 'r', 'u', 'r', 'u', 'l', 'l', 'l', 'd', 'd', 'r', 'u', 'r', 'd', 'l', 'l', 'd', 'r', 'u', 'r', 'u', 'l', 'u', 'l', 'd', 'd', 'd', 'r', 'r', 'u', 'l', 'l', 'd', 'r', 'u', 'u', 'r', 'd', 'd', 'r', 'u', 'l', 'd', 'l', 'l', 'u', 'u', 'u', 'r', 'd', 'l', 'u', 'r', 'r', 'r', 'd', 'l', 'd', 'l', 'u', 'u', 'r', 'r', 'd', 'd', 'l', 'l', 'd', 'r', 'u', 'u', 'l', 'u', 'r', 'd', 'l', 'l', 'u', 'r', 'd', 'r', 'u', 'l', 'd', 'l', 'd', 'd', 'r', 'u', 'l', 'u', 'u', 'r', 'r', 'd', 'r', 'd', 'd', 'l', 'u', 'r', 'u', 'l', 'd', 'r', 'u', 'l', 'l', 'l', 'd', 'r', 'r', 'r', 'u', 'u', 'l', 'd', 'r', 'u', 'l', 'd', 'r', 'd', 'l', 'u', 'u', 'r', 'd', 'd', 'd', 'l', 'u', 'l', 'l', 'd', 'r', 'r', 'u', 'u', 'r', 'd', 'd', 'l', 'u', 'r', 'u', 'u', 'l', 'd', 'l', 'l', 'u', 'r', 'd', 'r', 'r', 'd', 'd', 'l', 'l', 'l', 'u', 'r', 'd', 'r', 'u', 'u', 'l']\n",
            "['r', 'd', 'd', 'l', 'u', 'l', 'd', 'r', 'r', 'r', 'u', 'u', 'l', 'l', 'u', 'l', 'd', 'r', 'r', 'u', 'r', 'd', 'd', 'l', 'd', 'r', 'u', 'u', 'l', 'd', 'd', 'l', 'l', 'u', 'r', 'r', 'd', 'r', 'u', 'u', 'u', 'l', 'd', 'd', 'r', 'u', 'l', 'u', 'r', 'd', 'l', 'u', 'r', 'd', 'd', 'l', 'l', 'l', 'u', 'r', 'r', 'r', 'd', 'l', 'u', 'r', 'd', 'l', 'd', 'r', 'u', 'u', 'l', 'u', 'l', 'l', 'd', 'd', 'r', 'd', 'l', 'u', 'u', 'r', 'u', 'r', 'd', 'l', 'u', 'l', 'd', 'r', 'r', 'u', 'l', 'd', 'r', 'd', 'd', 'l', 'u', 'r', 'r', 'u', 'u', 'l', 'l', 'd', 'd', 'r', 'u', 'r', 'u', 'l', 'l', 'l', 'd', 'r', 'u', 'l', 'd', 'd', 'd', 'r', 'r', 'u', 'r', 'd', 'l', 'u', 'u', 'l', 'd', 'd', 'l', 'u', 'r', 'r', 'd', 'l', 'l', 'u', 'u', 'u', 'r', 'd', 'r', 'd', 'l', 'd', 'l', 'u', 'r', 'r', 'u', 'l', 'd', 'l', 'u', 'u', 'r', 'r', 'r', 'd', 'l', 'd', 'l', 'u', 'l', 'd', 'd', 'r', 'u', 'u', 'l', 'u', 'r', 'd', 'r', 'd', 'd', 'r', 'u', 'u', 'l', 'd', 'l', 'u', 'l', 'd', 'r', 'd', 'r', 'u', 'l', 'l', 'd', 'r', 'r', 'r', 'u', 'l', 'u', 'r', 'd', 'd', 'l', 'u', 'u', 'r', 'u', 'l', 'd', 'd', 'l', 'l', 'd', 'r', 'r', 'u', 'r', 'd', 'l', 'l', 'u', 'u', 'u', 'r', 'r', 'd', 'l', 'u', 'l', 'd', 'r', 'd', 'd', 'r', 'u', 'u', 'u', 'l', 'd', 'r', 'u', 'l', 'l', 'l', 'd', 'r', 'r', 'r', 'u', 'l', 'l', 'd', 'l', 'd', 'd', 'r', 'r', 'r', 'u', 'l', 'u', 'l', 'l', 'u', 'r', 'r', 'r', 'd', 'd', 'd', 'l', 'l', 'u', 'l', 'd', 'r', 'r', 'r', 'u', 'u', 'l', 'd', 'd', 'r', 'u', 'l', 'l', 'd', 'r', 'r', 'u', 'l', 'u', 'r', 'd', 'd']\n",
            "[1, 2, 3, 4]\n",
            "[5, 6, 7, 8]\n",
            "[9, 10, 11, 12]\n",
            "[13, 14, 15, 0]\n"
          ]
        }
      ]
    },
    {
      "cell_type": "code",
      "metadata": {
        "colab": {
          "base_uri": "https://localhost:8080/"
        },
        "id": "tKnMcesqoCss",
        "outputId": "a892e2ca-fcdb-4d24-e2d0-8cf79ae2a66f"
      },
      "source": [
        "TileSliding.INITIAL = state1\n",
        "ret, cost = BreadthFirstSearch(TileSliding)\n",
        "print (ret)\n",
        "sol = Solution(ret)\n",
        "print (sol)\n",
        "print (TileSliding.INITIAL)\n",
        "print (ApplyMoves(sol, TileSliding.INITIAL))\n",
        "print (\"Length of solution: \", len(sol))\n",
        "print (\"Nodes Expanded=\", cost)"
      ],
      "execution_count": 218,
      "outputs": [
        {
          "output_type": "stream",
          "name": "stdout",
          "text": [
            "[1, 2, 3, 4, 5, 6, 7, 8, 9, 10, 11, 12, 13, 14, 15, 0], r\n",
            "['d', 'l', 'u', 'r', 'd', 'r', 'r']\n",
            "[1, 2, 3, 4, 5, 6, 7, 8, 13, 0, 11, 12, 10, 9, 14, 15]\n",
            "[1, 2, 3, 4, 5, 6, 7, 8, 9, 10, 11, 12, 13, 14, 15, 0]\n",
            "Length of solution:  7\n",
            "Nodes Expanded= 216\n"
          ]
        }
      ]
    },
    {
      "cell_type": "code",
      "metadata": {
        "colab": {
          "base_uri": "https://localhost:8080/"
        },
        "id": "k24bl418eL5m",
        "outputId": "14333620-5ac9-49cd-86e4-30ad3efecf83"
      },
      "source": [
        "UniformCostF = lambda n: n.PathCost\n",
        "TileSliding.INITIAL = state1\n",
        "ret, cost = BestFirstSearch(TileSliding, UniformCostF)\n",
        "print (ret)\n",
        "sol = Solution(ret)\n",
        "print (sol)\n",
        "print (TileSliding.INITIAL)\n",
        "print (ApplyMoves(sol, TileSliding.INITIAL))\n",
        "print (\"Length of solution: \", len(sol))\n",
        "print (\"Nodes Expanded=\", cost)"
      ],
      "execution_count": 219,
      "outputs": [
        {
          "output_type": "stream",
          "name": "stdout",
          "text": [
            "[1, 2, 3, 4, 5, 6, 7, 8, 9, 10, 11, 12, 13, 14, 15, 0], r\n",
            "['d', 'l', 'u', 'r', 'd', 'r', 'r']\n",
            "[1, 2, 3, 4, 5, 6, 7, 8, 13, 0, 11, 12, 10, 9, 14, 15]\n",
            "[1, 2, 3, 4, 5, 6, 7, 8, 9, 10, 11, 12, 13, 14, 15, 0]\n",
            "Length of solution:  7\n",
            "Nodes Expanded= 428\n"
          ]
        }
      ]
    },
    {
      "cell_type": "markdown",
      "metadata": {
        "id": "tdtWdXGlXFGG"
      },
      "source": [
        "# Problem List"
      ]
    },
    {
      "cell_type": "code",
      "metadata": {
        "colab": {
          "base_uri": "https://localhost:8080/"
        },
        "id": "iDhmyFXQXI3N",
        "outputId": "dbc1a8a2-b59c-4528-c28e-515bd5c1791e"
      },
      "source": [
        "findNum = 10\n",
        "randomWalkDistance = 300\n",
        "problemList = []\n",
        "for i in range(10):\n",
        "  state1, sol = RandomWalk(GoalState, 300)\n",
        "  problemList.append(state1)\n",
        "print (problemList)"
      ],
      "execution_count": 220,
      "outputs": [
        {
          "output_type": "stream",
          "name": "stdout",
          "text": [
            "[[7, 4, 12, 5, 2, 0, 11, 3, 8, 9, 13, 10, 1, 6, 14, 15], [4, 10, 0, 1, 15, 11, 6, 2, 3, 14, 5, 12, 13, 8, 7, 9], [12, 7, 13, 14, 15, 11, 10, 8, 3, 5, 0, 9, 1, 2, 4, 6], [4, 2, 6, 15, 5, 0, 13, 14, 10, 12, 1, 3, 11, 8, 9, 7], [0, 12, 3, 5, 9, 1, 15, 8, 2, 11, 13, 14, 6, 4, 10, 7], [9, 10, 14, 15, 11, 7, 2, 4, 0, 8, 12, 13, 6, 1, 5, 3], [7, 3, 12, 6, 4, 0, 11, 10, 1, 13, 5, 15, 14, 9, 2, 8], [4, 8, 3, 11, 1, 14, 5, 0, 9, 7, 13, 12, 6, 15, 2, 10], [2, 12, 5, 11, 1, 14, 4, 9, 3, 6, 10, 8, 7, 0, 13, 15], [2, 1, 0, 13, 6, 10, 12, 3, 4, 5, 15, 9, 7, 11, 8, 14]]\n"
          ]
        }
      ]
    },
    {
      "cell_type": "markdown",
      "metadata": {
        "id": "TpdrxwA8UvFn"
      },
      "source": [
        "### Breadth First Search w/ Test Problems"
      ]
    },
    {
      "cell_type": "code",
      "metadata": {
        "colab": {
          "base_uri": "https://localhost:8080/"
        },
        "id": "xrni2RRIXkfU",
        "outputId": "3f9bdafa-7ec4-4cd4-a834-6d20ad17a1c3"
      },
      "source": [
        "testProblems = [\n",
        "    [1, 2, 3, 4, 5, 6, 7, 8, 9, 11, 0, 10, 13, 14, 12, 15],\n",
        "    [1, 2, 3, 4, 5, 6, 7, 8, 9, 10, 11, 12, 0, 13, 14, 15],\n",
        "    [1, 2, 3, 4, 5, 6, 7, 0, 9, 10, 11, 8, 13, 14, 15, 12],\n",
        "    [1, 2, 3, 4, 5, 6, 7, 8, 9, 11, 0, 12, 13, 10, 14, 15],\n",
        "    [1, 2, 3, 4, 5, 6, 0, 7, 9, 10, 11, 8, 13, 14, 15, 12],\n",
        "    [1, 2, 3, 4, 5, 6, 7, 8, 9, 10, 11, 12, 13, 14, 0, 15],\n",
        "    [1, 2, 3, 4, 5, 6, 7, 8, 9, 10, 11, 12, 0, 13, 14, 15],\n",
        "    [1, 2, 3, 4, 5, 6, 7, 8, 9, 10, 11, 12, 13, 0, 14, 15],\n",
        "    [1, 2, 3, 4, 5, 0, 7, 8, 9, 6, 11, 10, 13, 14, 12, 15],\n",
        "    [1, 2, 3, 4, 5, 6, 7, 8, 0, 9, 11, 10, 13, 14, 12, 15],\n",
        "]\n",
        "\n",
        "\n",
        "Solutions = []\n",
        "for s in testProblems:\n",
        "  TileSliding.INITIAL = s\n",
        "  ret, cost = BreadthFirstSearch(TileSliding)\n",
        "  sol = Solution(ret)\n",
        "  print (sol)\n",
        "  print (\"-----------------------\")\n",
        "  print (TileSliding.INITIAL,'\\n')\n",
        "  print (ApplyMoves(sol, TileSliding.INITIAL))\n",
        "  print (\"Length of solution: \", len(sol))\n",
        "  print (\"Nodes Expanded=\", cost)\n",
        "  print (\"-----------------------\")\n",
        "  Solutions.append((''.join(map(str, s)), ''.join(sol), cost))\n",
        "print (\"-------\")\n",
        "print (Solutions)\n"
      ],
      "execution_count": 221,
      "outputs": [
        {
          "output_type": "stream",
          "name": "stdout",
          "text": [
            "['d', 'r', 'u', 'l', 'l', 'd', 'r', 'r', 'u', 'l', 'd', 'l', 'u', 'r', 'r', 'd']\n",
            "-----------------------\n",
            "[1, 2, 3, 4, 5, 6, 7, 8, 9, 11, 0, 10, 13, 14, 12, 15] \n",
            "\n",
            "[1, 2, 3, 4, 5, 6, 7, 8, 9, 10, 11, 12, 13, 14, 15, 0]\n",
            "Length of solution:  16\n",
            "Nodes Expanded= 146513\n",
            "-----------------------\n",
            "['r', 'r', 'r']\n",
            "-----------------------\n",
            "[1, 2, 3, 4, 5, 6, 7, 8, 9, 10, 11, 12, 0, 13, 14, 15] \n",
            "\n",
            "[1, 2, 3, 4, 5, 6, 7, 8, 9, 10, 11, 12, 13, 14, 15, 0]\n",
            "Length of solution:  3\n",
            "Nodes Expanded= 6\n",
            "-----------------------\n",
            "['d', 'd']\n",
            "-----------------------\n",
            "[1, 2, 3, 4, 5, 6, 7, 0, 9, 10, 11, 8, 13, 14, 15, 12] \n",
            "\n",
            "[1, 2, 3, 4, 5, 6, 7, 8, 9, 10, 11, 12, 13, 14, 15, 0]\n",
            "Length of solution:  2\n",
            "Nodes Expanded= 2\n",
            "-----------------------\n",
            "['l', 'd', 'r', 'r']\n",
            "-----------------------\n",
            "[1, 2, 3, 4, 5, 6, 7, 8, 9, 11, 0, 12, 13, 10, 14, 15] \n",
            "\n",
            "[1, 2, 3, 4, 5, 6, 7, 8, 9, 10, 11, 12, 13, 14, 15, 0]\n",
            "Length of solution:  4\n",
            "Nodes Expanded= 29\n",
            "-----------------------\n",
            "['r', 'd', 'd']\n",
            "-----------------------\n",
            "[1, 2, 3, 4, 5, 6, 0, 7, 9, 10, 11, 8, 13, 14, 15, 12] \n",
            "\n",
            "[1, 2, 3, 4, 5, 6, 7, 8, 9, 10, 11, 12, 13, 14, 15, 0]\n",
            "Length of solution:  3\n",
            "Nodes Expanded= 14\n",
            "-----------------------\n",
            "['r']\n",
            "-----------------------\n",
            "[1, 2, 3, 4, 5, 6, 7, 8, 9, 10, 11, 12, 13, 14, 0, 15] \n",
            "\n",
            "[1, 2, 3, 4, 5, 6, 7, 8, 9, 10, 11, 12, 13, 14, 15, 0]\n",
            "Length of solution:  1\n",
            "Nodes Expanded= 0\n",
            "-----------------------\n",
            "['r', 'r', 'r']\n",
            "-----------------------\n",
            "[1, 2, 3, 4, 5, 6, 7, 8, 9, 10, 11, 12, 0, 13, 14, 15] \n",
            "\n",
            "[1, 2, 3, 4, 5, 6, 7, 8, 9, 10, 11, 12, 13, 14, 15, 0]\n",
            "Length of solution:  3\n",
            "Nodes Expanded= 6\n",
            "-----------------------\n",
            "['r', 'r']\n",
            "-----------------------\n",
            "[1, 2, 3, 4, 5, 6, 7, 8, 9, 10, 11, 12, 13, 0, 14, 15] \n",
            "\n",
            "[1, 2, 3, 4, 5, 6, 7, 8, 9, 10, 11, 12, 13, 14, 15, 0]\n",
            "Length of solution:  2\n",
            "Nodes Expanded= 3\n",
            "-----------------------\n",
            "['d', 'd', 'r', 'u', 'r', 'd', 'l', 'l', 'u', 'r', 'd', 'r', 'u', 'l', 'd', 'r']\n",
            "-----------------------\n",
            "[1, 2, 3, 4, 5, 0, 7, 8, 9, 6, 11, 10, 13, 14, 12, 15] \n",
            "\n",
            "[1, 2, 3, 4, 5, 6, 7, 8, 9, 10, 11, 12, 13, 14, 15, 0]\n",
            "Length of solution:  16\n",
            "Nodes Expanded= 123353\n",
            "-----------------------\n",
            "['r', 'd', 'r', 'u', 'r', 'd', 'l', 'l', 'u', 'r', 'd', 'r', 'u', 'l', 'd', 'r']\n",
            "-----------------------\n",
            "[1, 2, 3, 4, 5, 6, 7, 8, 0, 9, 11, 10, 13, 14, 12, 15] \n",
            "\n",
            "[1, 2, 3, 4, 5, 6, 7, 8, 9, 10, 11, 12, 13, 14, 15, 0]\n",
            "Length of solution:  16\n",
            "Nodes Expanded= 139251\n",
            "-----------------------\n",
            "-------\n",
            "[('1234567891101013141215', 'drulldrruldlurrd', 146513), ('1234567891011120131415', 'rrr', 6), ('1234567091011813141512', 'dd', 2), ('1234567891101213101415', 'ldrr', 29), ('1234560791011813141512', 'rdd', 14), ('1234567891011121314015', 'r', 0), ('1234567891011120131415', 'rrr', 6), ('1234567891011121301415', 'rr', 3), ('1234507896111013141215', 'ddrurdllurdruldr', 123353), ('1234567809111013141215', 'rdrurdllurdruldr', 139251)]\n"
          ]
        }
      ]
    },
    {
      "cell_type": "markdown",
      "metadata": {
        "id": "YLVN3sTkU0jw"
      },
      "source": [
        "### Uniform Cost Search w/ Test Problems"
      ]
    },
    {
      "cell_type": "code",
      "metadata": {
        "colab": {
          "base_uri": "https://localhost:8080/"
        },
        "id": "LsWVfbeLRYfO",
        "outputId": "c33b52c5-e5d5-459f-fec8-f20d7fa79310"
      },
      "source": [
        "UniformCostF = lambda n: n.PathCost\n",
        "testProblems = [\n",
        "    [1, 2, 3, 4, 5, 6, 7, 8, 9, 11, 0, 10, 13, 14, 12, 15],\n",
        "    [1, 2, 3, 4, 5, 6, 7, 8, 9, 10, 11, 12, 0, 13, 14, 15],\n",
        "    [1, 2, 3, 4, 5, 6, 7, 0, 9, 10, 11, 8, 13, 14, 15, 12],\n",
        "    [1, 2, 3, 4, 5, 6, 7, 8, 9, 11, 0, 12, 13, 10, 14, 15],\n",
        "    [1, 2, 3, 4, 5, 6, 0, 7, 9, 10, 11, 8, 13, 14, 15, 12],\n",
        "    [1, 2, 3, 4, 5, 6, 7, 8, 9, 10, 11, 12, 13, 14, 0, 15],\n",
        "    [1, 2, 3, 4, 5, 6, 7, 8, 9, 10, 11, 12, 0, 13, 14, 15],\n",
        "    [1, 2, 3, 4, 5, 6, 7, 8, 9, 10, 11, 12, 13, 0, 14, 15],\n",
        "    [1, 2, 3, 4, 5, 0, 7, 8, 9, 6, 11, 10, 13, 14, 12, 15],\n",
        "    [1, 2, 3, 4, 5, 6, 7, 8, 0, 9, 11, 10, 13, 14, 12, 15],\n",
        "]\n",
        "\n",
        "Solutions = []\n",
        "for s in testProblems:\n",
        "  TileSliding.INITIAL = s\n",
        "  ret, cost = BestFirstSearch(TileSliding, UniformCostF)\n",
        "  sol = Solution(ret)\n",
        "  print (sol)\n",
        "  print (\"-----------------------\")\n",
        "  print (TileSliding.INITIAL,'\\n')\n",
        "  print (ApplyMoves(sol, TileSliding.INITIAL))\n",
        "  print (\"Length of solution: \", len(sol))\n",
        "  print (\"Nodes Expanded=\", cost)\n",
        "  print (\"-----------------------\")\n",
        "  Solutions.append((''.join(map(str, s)), ''.join(sol), cost))\n",
        "print (\"-------\")\n",
        "print (Solutions)"
      ],
      "execution_count": 222,
      "outputs": [
        {
          "output_type": "stream",
          "name": "stdout",
          "text": [
            "['l', 'd', 'r', 'u', 'r', 'd', 'l', 'l', 'u', 'r', 'd', 'r', 'u', 'l', 'd', 'r']\n",
            "-----------------------\n",
            "[1, 2, 3, 4, 5, 6, 7, 8, 9, 11, 0, 10, 13, 14, 12, 15] \n",
            "\n",
            "[1, 2, 3, 4, 5, 6, 7, 8, 9, 10, 11, 12, 13, 14, 15, 0]\n",
            "Length of solution:  16\n",
            "Nodes Expanded= 202444\n",
            "-----------------------\n",
            "['r', 'r', 'r']\n",
            "-----------------------\n",
            "[1, 2, 3, 4, 5, 6, 7, 8, 9, 10, 11, 12, 0, 13, 14, 15] \n",
            "\n",
            "[1, 2, 3, 4, 5, 6, 7, 8, 9, 10, 11, 12, 13, 14, 15, 0]\n",
            "Length of solution:  3\n",
            "Nodes Expanded= 9\n",
            "-----------------------\n",
            "['d', 'd']\n",
            "-----------------------\n",
            "[1, 2, 3, 4, 5, 6, 7, 0, 9, 10, 11, 8, 13, 14, 15, 12] \n",
            "\n",
            "[1, 2, 3, 4, 5, 6, 7, 8, 9, 10, 11, 12, 13, 14, 15, 0]\n",
            "Length of solution:  2\n",
            "Nodes Expanded= 4\n",
            "-----------------------\n",
            "['l', 'd', 'r', 'r']\n",
            "-----------------------\n",
            "[1, 2, 3, 4, 5, 6, 7, 8, 9, 11, 0, 12, 13, 10, 14, 15] \n",
            "\n",
            "[1, 2, 3, 4, 5, 6, 7, 8, 9, 10, 11, 12, 13, 14, 15, 0]\n",
            "Length of solution:  4\n",
            "Nodes Expanded= 37\n",
            "-----------------------\n",
            "['r', 'd', 'd']\n",
            "-----------------------\n",
            "[1, 2, 3, 4, 5, 6, 0, 7, 9, 10, 11, 8, 13, 14, 15, 12] \n",
            "\n",
            "[1, 2, 3, 4, 5, 6, 7, 8, 9, 10, 11, 12, 13, 14, 15, 0]\n",
            "Length of solution:  3\n",
            "Nodes Expanded= 27\n",
            "-----------------------\n",
            "['r']\n",
            "-----------------------\n",
            "[1, 2, 3, 4, 5, 6, 7, 8, 9, 10, 11, 12, 13, 14, 0, 15] \n",
            "\n",
            "[1, 2, 3, 4, 5, 6, 7, 8, 9, 10, 11, 12, 13, 14, 15, 0]\n",
            "Length of solution:  1\n",
            "Nodes Expanded= 3\n",
            "-----------------------\n",
            "['r', 'r', 'r']\n",
            "-----------------------\n",
            "[1, 2, 3, 4, 5, 6, 7, 8, 9, 10, 11, 12, 0, 13, 14, 15] \n",
            "\n",
            "[1, 2, 3, 4, 5, 6, 7, 8, 9, 10, 11, 12, 13, 14, 15, 0]\n",
            "Length of solution:  3\n",
            "Nodes Expanded= 9\n",
            "-----------------------\n",
            "['r', 'r']\n",
            "-----------------------\n",
            "[1, 2, 3, 4, 5, 6, 7, 8, 9, 10, 11, 12, 13, 0, 14, 15] \n",
            "\n",
            "[1, 2, 3, 4, 5, 6, 7, 8, 9, 10, 11, 12, 13, 14, 15, 0]\n",
            "Length of solution:  2\n",
            "Nodes Expanded= 6\n",
            "-----------------------\n",
            "['d', 'd', 'r', 'u', 'r', 'd', 'l', 'l', 'u', 'r', 'd', 'r', 'u', 'l', 'd', 'r']\n",
            "-----------------------\n",
            "[1, 2, 3, 4, 5, 0, 7, 8, 9, 6, 11, 10, 13, 14, 12, 15] \n",
            "\n",
            "[1, 2, 3, 4, 5, 6, 7, 8, 9, 10, 11, 12, 13, 14, 15, 0]\n",
            "Length of solution:  16\n",
            "Nodes Expanded= 197572\n",
            "-----------------------\n",
            "['r', 'd', 'r', 'u', 'r', 'd', 'l', 'l', 'u', 'r', 'd', 'r', 'u', 'l', 'd', 'r']\n",
            "-----------------------\n",
            "[1, 2, 3, 4, 5, 6, 7, 8, 0, 9, 11, 10, 13, 14, 12, 15] \n",
            "\n",
            "[1, 2, 3, 4, 5, 6, 7, 8, 9, 10, 11, 12, 13, 14, 15, 0]\n",
            "Length of solution:  16\n",
            "Nodes Expanded= 174907\n",
            "-----------------------\n",
            "-------\n",
            "[('1234567891101013141215', 'ldrurdllurdruldr', 202444), ('1234567891011120131415', 'rrr', 9), ('1234567091011813141512', 'dd', 4), ('1234567891101213101415', 'ldrr', 37), ('1234560791011813141512', 'rdd', 27), ('1234567891011121314015', 'r', 3), ('1234567891011120131415', 'rrr', 9), ('1234567891011121301415', 'rr', 6), ('1234507896111013141215', 'ddrurdllurdruldr', 197572), ('1234567809111013141215', 'rdrurdllurdruldr', 174907)]\n"
          ]
        }
      ]
    },
    {
      "cell_type": "markdown",
      "metadata": {
        "id": "p8yiFsHoU6sf"
      },
      "source": [
        "### AStar using ManhattanDistance w/ Test Problems"
      ]
    },
    {
      "cell_type": "code",
      "metadata": {
        "colab": {
          "base_uri": "https://localhost:8080/"
        },
        "id": "6VD8LuUJRhxU",
        "outputId": "3cbcdc42-68d2-46cd-b8f2-6df2449e49ef"
      },
      "source": [
        "AStarFb = lambda n: n.PathCost + Manhattan(n.State, GoalState)\n",
        "testProblems = [\n",
        "    [1, 2, 3, 4, 5, 6, 7, 8, 9, 11, 0, 10, 13, 14, 12, 15],\n",
        "    [1, 2, 3, 4, 5, 6, 7, 8, 9, 10, 11, 12, 0, 13, 14, 15],\n",
        "    [1, 2, 3, 4, 5, 6, 7, 0, 9, 10, 11, 8, 13, 14, 15, 12],\n",
        "    [1, 2, 3, 4, 5, 6, 7, 8, 9, 11, 0, 12, 13, 10, 14, 15],\n",
        "    [1, 2, 3, 4, 5, 6, 0, 7, 9, 10, 11, 8, 13, 14, 15, 12],\n",
        "    [1, 2, 3, 4, 5, 6, 7, 8, 9, 10, 11, 12, 13, 14, 0, 15],\n",
        "    [1, 2, 3, 4, 5, 6, 7, 8, 9, 10, 11, 12, 0, 13, 14, 15],\n",
        "    [1, 2, 3, 4, 5, 6, 7, 8, 9, 10, 11, 12, 13, 0, 14, 15],\n",
        "    [1, 2, 3, 4, 5, 0, 7, 8, 9, 6, 11, 10, 13, 14, 12, 15],\n",
        "    [1, 2, 3, 4, 5, 6, 7, 8, 0, 9, 11, 10, 13, 14, 12, 15],\n",
        "]\n",
        "\n",
        "Solutions = []\n",
        "for s in testProblems:\n",
        "  TileSliding.INITIAL = s\n",
        "  ret, cost = BestFirstSearch(TileSliding, AStarF)\n",
        "  sol = Solution(ret)\n",
        "  print (sol)\n",
        "  print (\"-----------------------\")\n",
        "  print (TileSliding.INITIAL,'\\n')\n",
        "  print (ApplyMoves(sol, TileSliding.INITIAL))\n",
        "  print (\"Length of solution: \", len(sol))\n",
        "  print (\"Nodes Expanded=\", cost)\n",
        "  print (\"-----------------------\")\n",
        "  Solutions.append((''.join(map(str, s)), ''.join(sol), cost))\n",
        "print (\"-------\")\n",
        "print (Solutions)"
      ],
      "execution_count": 223,
      "outputs": [
        {
          "output_type": "stream",
          "name": "stdout",
          "text": [
            "['l', 'd', 'r', 'u', 'r', 'd', 'l', 'l', 'u', 'r', 'd', 'r', 'u', 'l', 'd', 'r']\n",
            "-----------------------\n",
            "[1, 2, 3, 4, 5, 6, 7, 8, 9, 11, 0, 10, 13, 14, 12, 15] \n",
            "\n",
            "[1, 2, 3, 4, 5, 6, 7, 8, 9, 10, 11, 12, 13, 14, 15, 0]\n",
            "Length of solution:  16\n",
            "Nodes Expanded= 629\n",
            "-----------------------\n",
            "['r', 'r', 'r']\n",
            "-----------------------\n",
            "[1, 2, 3, 4, 5, 6, 7, 8, 9, 10, 11, 12, 0, 13, 14, 15] \n",
            "\n",
            "[1, 2, 3, 4, 5, 6, 7, 8, 9, 10, 11, 12, 13, 14, 15, 0]\n",
            "Length of solution:  3\n",
            "Nodes Expanded= 3\n",
            "-----------------------\n",
            "['d', 'd']\n",
            "-----------------------\n",
            "[1, 2, 3, 4, 5, 6, 7, 0, 9, 10, 11, 8, 13, 14, 15, 12] \n",
            "\n",
            "[1, 2, 3, 4, 5, 6, 7, 8, 9, 10, 11, 12, 13, 14, 15, 0]\n",
            "Length of solution:  2\n",
            "Nodes Expanded= 2\n",
            "-----------------------\n",
            "['l', 'd', 'r', 'r']\n",
            "-----------------------\n",
            "[1, 2, 3, 4, 5, 6, 7, 8, 9, 11, 0, 12, 13, 10, 14, 15] \n",
            "\n",
            "[1, 2, 3, 4, 5, 6, 7, 8, 9, 10, 11, 12, 13, 14, 15, 0]\n",
            "Length of solution:  4\n",
            "Nodes Expanded= 4\n",
            "-----------------------\n",
            "['r', 'd', 'd']\n",
            "-----------------------\n",
            "[1, 2, 3, 4, 5, 6, 0, 7, 9, 10, 11, 8, 13, 14, 15, 12] \n",
            "\n",
            "[1, 2, 3, 4, 5, 6, 7, 8, 9, 10, 11, 12, 13, 14, 15, 0]\n",
            "Length of solution:  3\n",
            "Nodes Expanded= 3\n",
            "-----------------------\n",
            "['r']\n",
            "-----------------------\n",
            "[1, 2, 3, 4, 5, 6, 7, 8, 9, 10, 11, 12, 13, 14, 0, 15] \n",
            "\n",
            "[1, 2, 3, 4, 5, 6, 7, 8, 9, 10, 11, 12, 13, 14, 15, 0]\n",
            "Length of solution:  1\n",
            "Nodes Expanded= 1\n",
            "-----------------------\n",
            "['r', 'r', 'r']\n",
            "-----------------------\n",
            "[1, 2, 3, 4, 5, 6, 7, 8, 9, 10, 11, 12, 0, 13, 14, 15] \n",
            "\n",
            "[1, 2, 3, 4, 5, 6, 7, 8, 9, 10, 11, 12, 13, 14, 15, 0]\n",
            "Length of solution:  3\n",
            "Nodes Expanded= 3\n",
            "-----------------------\n",
            "['r', 'r']\n",
            "-----------------------\n",
            "[1, 2, 3, 4, 5, 6, 7, 8, 9, 10, 11, 12, 13, 0, 14, 15] \n",
            "\n",
            "[1, 2, 3, 4, 5, 6, 7, 8, 9, 10, 11, 12, 13, 14, 15, 0]\n",
            "Length of solution:  2\n",
            "Nodes Expanded= 2\n",
            "-----------------------\n",
            "['d', 'd', 'r', 'u', 'r', 'd', 'l', 'l', 'u', 'r', 'r', 'd', 'l', 'u', 'r', 'd']\n",
            "-----------------------\n",
            "[1, 2, 3, 4, 5, 0, 7, 8, 9, 6, 11, 10, 13, 14, 12, 15] \n",
            "\n",
            "[1, 2, 3, 4, 5, 6, 7, 8, 9, 10, 11, 12, 13, 14, 15, 0]\n",
            "Length of solution:  16\n",
            "Nodes Expanded= 509\n",
            "-----------------------\n",
            "['r', 'd', 'r', 'u', 'r', 'd', 'l', 'l', 'u', 'r', 'd', 'r', 'u', 'l', 'd', 'r']\n",
            "-----------------------\n",
            "[1, 2, 3, 4, 5, 6, 7, 8, 0, 9, 11, 10, 13, 14, 12, 15] \n",
            "\n",
            "[1, 2, 3, 4, 5, 6, 7, 8, 9, 10, 11, 12, 13, 14, 15, 0]\n",
            "Length of solution:  16\n",
            "Nodes Expanded= 419\n",
            "-----------------------\n",
            "-------\n",
            "[('1234567891101013141215', 'ldrurdllurdruldr', 629), ('1234567891011120131415', 'rrr', 3), ('1234567091011813141512', 'dd', 2), ('1234567891101213101415', 'ldrr', 4), ('1234560791011813141512', 'rdd', 3), ('1234567891011121314015', 'r', 1), ('1234567891011120131415', 'rrr', 3), ('1234567891011121301415', 'rr', 2), ('1234507896111013141215', 'ddrurdllurrdlurd', 509), ('1234567809111013141215', 'rdrurdllurdruldr', 419)]\n"
          ]
        }
      ]
    },
    {
      "cell_type": "markdown",
      "metadata": {
        "id": "dluzNjyYVBSl"
      },
      "source": [
        "### AStar using OutOfPlace w/ Test Problems"
      ]
    },
    {
      "cell_type": "code",
      "metadata": {
        "colab": {
          "base_uri": "https://localhost:8080/"
        },
        "id": "m7icYl-JUGbR",
        "outputId": "1866eb9e-0d38-441b-8e56-3722ac29cf69"
      },
      "source": [
        "AStarFb = lambda n: n.PathCost + OutOfPlace(n.State, GoalState)\n",
        "testProblems = [\n",
        "    [1, 2, 3, 4, 5, 6, 7, 8, 9, 11, 0, 10, 13, 14, 12, 15],\n",
        "    [1, 2, 3, 4, 5, 6, 7, 8, 9, 10, 11, 12, 0, 13, 14, 15],\n",
        "    [1, 2, 3, 4, 5, 6, 7, 0, 9, 10, 11, 8, 13, 14, 15, 12],\n",
        "    [1, 2, 3, 4, 5, 6, 7, 8, 9, 11, 0, 12, 13, 10, 14, 15],\n",
        "    [1, 2, 3, 4, 5, 6, 0, 7, 9, 10, 11, 8, 13, 14, 15, 12],\n",
        "    [1, 2, 3, 4, 5, 6, 7, 8, 9, 10, 11, 12, 13, 14, 0, 15],\n",
        "    [1, 2, 3, 4, 5, 6, 7, 8, 9, 10, 11, 12, 0, 13, 14, 15],\n",
        "    [1, 2, 3, 4, 5, 6, 7, 8, 9, 10, 11, 12, 13, 0, 14, 15],\n",
        "    [1, 2, 3, 4, 5, 0, 7, 8, 9, 6, 11, 10, 13, 14, 12, 15],\n",
        "    [1, 2, 3, 4, 5, 6, 7, 8, 0, 9, 11, 10, 13, 14, 12, 15],\n",
        "]\n",
        "\n",
        "Solutions = []\n",
        "for s in testProblems:\n",
        "  TileSliding.INITIAL = s\n",
        "  ret, cost = BestFirstSearch(TileSliding, AStarFb)\n",
        "  sol = Solution(ret)\n",
        "  print (sol)\n",
        "  print (\"-----------------------\")\n",
        "  print (TileSliding.INITIAL,'\\n')\n",
        "  print (ApplyMoves(sol, TileSliding.INITIAL))\n",
        "  print (\"Length of solution: \", len(sol))\n",
        "  print (\"Nodes Expanded=\", cost)\n",
        "  print (\"-----------------------\")\n",
        "  Solutions.append((''.join(map(str, s)), ''.join(sol), cost))\n",
        "print (\"-------\")\n",
        "print (Solutions)"
      ],
      "execution_count": 224,
      "outputs": [
        {
          "output_type": "stream",
          "name": "stdout",
          "text": [
            "['l', 'd', 'r', 'u', 'r', 'd', 'l', 'l', 'u', 'r', 'd', 'r', 'u', 'l', 'd', 'r']\n",
            "-----------------------\n",
            "[1, 2, 3, 4, 5, 6, 7, 8, 9, 11, 0, 10, 13, 14, 12, 15] \n",
            "\n",
            "[1, 2, 3, 4, 5, 6, 7, 8, 9, 10, 11, 12, 13, 14, 15, 0]\n",
            "Length of solution:  16\n",
            "Nodes Expanded= 2103\n",
            "-----------------------\n",
            "['r', 'r', 'r']\n",
            "-----------------------\n",
            "[1, 2, 3, 4, 5, 6, 7, 8, 9, 10, 11, 12, 0, 13, 14, 15] \n",
            "\n",
            "[1, 2, 3, 4, 5, 6, 7, 8, 9, 10, 11, 12, 13, 14, 15, 0]\n",
            "Length of solution:  3\n",
            "Nodes Expanded= 3\n",
            "-----------------------\n",
            "['d', 'd']\n",
            "-----------------------\n",
            "[1, 2, 3, 4, 5, 6, 7, 0, 9, 10, 11, 8, 13, 14, 15, 12] \n",
            "\n",
            "[1, 2, 3, 4, 5, 6, 7, 8, 9, 10, 11, 12, 13, 14, 15, 0]\n",
            "Length of solution:  2\n",
            "Nodes Expanded= 2\n",
            "-----------------------\n",
            "['l', 'd', 'r', 'r']\n",
            "-----------------------\n",
            "[1, 2, 3, 4, 5, 6, 7, 8, 9, 11, 0, 12, 13, 10, 14, 15] \n",
            "\n",
            "[1, 2, 3, 4, 5, 6, 7, 8, 9, 10, 11, 12, 13, 14, 15, 0]\n",
            "Length of solution:  4\n",
            "Nodes Expanded= 4\n",
            "-----------------------\n",
            "['r', 'd', 'd']\n",
            "-----------------------\n",
            "[1, 2, 3, 4, 5, 6, 0, 7, 9, 10, 11, 8, 13, 14, 15, 12] \n",
            "\n",
            "[1, 2, 3, 4, 5, 6, 7, 8, 9, 10, 11, 12, 13, 14, 15, 0]\n",
            "Length of solution:  3\n",
            "Nodes Expanded= 3\n",
            "-----------------------\n",
            "['r']\n",
            "-----------------------\n",
            "[1, 2, 3, 4, 5, 6, 7, 8, 9, 10, 11, 12, 13, 14, 0, 15] \n",
            "\n",
            "[1, 2, 3, 4, 5, 6, 7, 8, 9, 10, 11, 12, 13, 14, 15, 0]\n",
            "Length of solution:  1\n",
            "Nodes Expanded= 1\n",
            "-----------------------\n",
            "['r', 'r', 'r']\n",
            "-----------------------\n",
            "[1, 2, 3, 4, 5, 6, 7, 8, 9, 10, 11, 12, 0, 13, 14, 15] \n",
            "\n",
            "[1, 2, 3, 4, 5, 6, 7, 8, 9, 10, 11, 12, 13, 14, 15, 0]\n",
            "Length of solution:  3\n",
            "Nodes Expanded= 3\n",
            "-----------------------\n",
            "['r', 'r']\n",
            "-----------------------\n",
            "[1, 2, 3, 4, 5, 6, 7, 8, 9, 10, 11, 12, 13, 0, 14, 15] \n",
            "\n",
            "[1, 2, 3, 4, 5, 6, 7, 8, 9, 10, 11, 12, 13, 14, 15, 0]\n",
            "Length of solution:  2\n",
            "Nodes Expanded= 2\n",
            "-----------------------\n",
            "['d', 'd', 'r', 'u', 'r', 'd', 'l', 'l', 'u', 'r', 'r', 'd', 'l', 'u', 'r', 'd']\n",
            "-----------------------\n",
            "[1, 2, 3, 4, 5, 0, 7, 8, 9, 6, 11, 10, 13, 14, 12, 15] \n",
            "\n",
            "[1, 2, 3, 4, 5, 6, 7, 8, 9, 10, 11, 12, 13, 14, 15, 0]\n",
            "Length of solution:  16\n",
            "Nodes Expanded= 1812\n",
            "-----------------------\n",
            "['r', 'd', 'r', 'u', 'r', 'd', 'l', 'l', 'u', 'r', 'd', 'r', 'u', 'l', 'd', 'r']\n",
            "-----------------------\n",
            "[1, 2, 3, 4, 5, 6, 7, 8, 0, 9, 11, 10, 13, 14, 12, 15] \n",
            "\n",
            "[1, 2, 3, 4, 5, 6, 7, 8, 9, 10, 11, 12, 13, 14, 15, 0]\n",
            "Length of solution:  16\n",
            "Nodes Expanded= 1433\n",
            "-----------------------\n",
            "-------\n",
            "[('1234567891101013141215', 'ldrurdllurdruldr', 2103), ('1234567891011120131415', 'rrr', 3), ('1234567091011813141512', 'dd', 2), ('1234567891101213101415', 'ldrr', 4), ('1234560791011813141512', 'rdd', 3), ('1234567891011121314015', 'r', 1), ('1234567891011120131415', 'rrr', 3), ('1234567891011121301415', 'rr', 2), ('1234507896111013141215', 'ddrurdllurrdlurd', 1812), ('1234567809111013141215', 'rdrurdllurdruldr', 1433)]\n"
          ]
        }
      ]
    },
    {
      "cell_type": "markdown",
      "metadata": {
        "id": "TEBWJx6DwN-r"
      },
      "source": [
        "### Best First Search -- Greedy"
      ]
    },
    {
      "cell_type": "code",
      "metadata": {
        "colab": {
          "base_uri": "https://localhost:8080/"
        },
        "id": "fI27-Y5ivXdw",
        "outputId": "59726057-c79f-4aaf-8ec2-b8fec8a7d6f7"
      },
      "source": [
        "### Best First\n",
        "bestFirstSearchf = lambda n: OutOfPlace(n.State, GoalState)\n",
        "testProblems = [\n",
        "    [1, 2, 3, 4, 5, 6, 7, 8, 9, 11, 0, 10, 13, 14, 12, 15],\n",
        "    [1, 2, 3, 4, 5, 6, 7, 8, 9, 10, 11, 12, 0, 13, 14, 15],\n",
        "    [1, 2, 3, 4, 5, 6, 7, 0, 9, 10, 11, 8, 13, 14, 15, 12],\n",
        "    [1, 2, 3, 4, 5, 6, 7, 8, 9, 11, 0, 12, 13, 10, 14, 15],\n",
        "    [1, 2, 3, 4, 5, 6, 0, 7, 9, 10, 11, 8, 13, 14, 15, 12],\n",
        "    [1, 2, 3, 4, 5, 6, 7, 8, 9, 10, 11, 12, 13, 14, 0, 15],\n",
        "    [1, 2, 3, 4, 5, 6, 7, 8, 9, 10, 11, 12, 0, 13, 14, 15],\n",
        "    [1, 2, 3, 4, 5, 6, 7, 8, 9, 10, 11, 12, 13, 0, 14, 15],\n",
        "    [1, 2, 3, 4, 5, 0, 7, 8, 9, 6, 11, 10, 13, 14, 12, 15],\n",
        "    [1, 2, 3, 4, 5, 6, 7, 8, 0, 9, 11, 10, 13, 14, 12, 15],\n",
        "]\n",
        "\n",
        "Solutions = []\n",
        "for s in testProblems:\n",
        "  TileSliding.INITIAL = s\n",
        "  ret, cost = BestFirstSearch(TileSliding, bestFirstSearchf)\n",
        "  sol = Solution(ret)\n",
        "  print (sol)\n",
        "  print (\"-----------------------\")\n",
        "  print (TileSliding.INITIAL,'\\n')\n",
        "  print (ApplyMoves(sol, TileSliding.INITIAL))\n",
        "  print (\"Length of solution: \", len(sol))\n",
        "  print (\"Nodes Expanded=\", cost)\n",
        "  print (\"-----------------------\")\n",
        "  Solutions.append((''.join(map(str, s)), ''.join(sol), cost))\n",
        "print (\"-------\")\n",
        "print (Solutions)"
      ],
      "execution_count": 225,
      "outputs": [
        {
          "output_type": "stream",
          "name": "stdout",
          "text": [
            "['l', 'd', 'r', 'r', 'u', 'l', 'd', 'l', 'u', 'r', 'd', 'r', 'u', 'l', 'd', 'l', 'u', 'r', 'd', 'r', 'u', 'l', 'd', 'l', 'u', 'r', 'r', 'd', 'l', 'u', 'l', 'd', 'r', 'r']\n",
            "-----------------------\n",
            "[1, 2, 3, 4, 5, 6, 7, 8, 9, 11, 0, 10, 13, 14, 12, 15] \n",
            "\n",
            "[1, 2, 3, 4, 5, 6, 7, 8, 9, 10, 11, 12, 13, 14, 15, 0]\n",
            "Length of solution:  34\n",
            "Nodes Expanded= 277\n",
            "-----------------------\n",
            "['r', 'r', 'r']\n",
            "-----------------------\n",
            "[1, 2, 3, 4, 5, 6, 7, 8, 9, 10, 11, 12, 0, 13, 14, 15] \n",
            "\n",
            "[1, 2, 3, 4, 5, 6, 7, 8, 9, 10, 11, 12, 13, 14, 15, 0]\n",
            "Length of solution:  3\n",
            "Nodes Expanded= 3\n",
            "-----------------------\n",
            "['d', 'd']\n",
            "-----------------------\n",
            "[1, 2, 3, 4, 5, 6, 7, 0, 9, 10, 11, 8, 13, 14, 15, 12] \n",
            "\n",
            "[1, 2, 3, 4, 5, 6, 7, 8, 9, 10, 11, 12, 13, 14, 15, 0]\n",
            "Length of solution:  2\n",
            "Nodes Expanded= 2\n",
            "-----------------------\n",
            "['l', 'd', 'r', 'r']\n",
            "-----------------------\n",
            "[1, 2, 3, 4, 5, 6, 7, 8, 9, 11, 0, 12, 13, 10, 14, 15] \n",
            "\n",
            "[1, 2, 3, 4, 5, 6, 7, 8, 9, 10, 11, 12, 13, 14, 15, 0]\n",
            "Length of solution:  4\n",
            "Nodes Expanded= 4\n",
            "-----------------------\n",
            "['r', 'd', 'd']\n",
            "-----------------------\n",
            "[1, 2, 3, 4, 5, 6, 0, 7, 9, 10, 11, 8, 13, 14, 15, 12] \n",
            "\n",
            "[1, 2, 3, 4, 5, 6, 7, 8, 9, 10, 11, 12, 13, 14, 15, 0]\n",
            "Length of solution:  3\n",
            "Nodes Expanded= 3\n",
            "-----------------------\n",
            "['r']\n",
            "-----------------------\n",
            "[1, 2, 3, 4, 5, 6, 7, 8, 9, 10, 11, 12, 13, 14, 0, 15] \n",
            "\n",
            "[1, 2, 3, 4, 5, 6, 7, 8, 9, 10, 11, 12, 13, 14, 15, 0]\n",
            "Length of solution:  1\n",
            "Nodes Expanded= 1\n",
            "-----------------------\n",
            "['r', 'r', 'r']\n",
            "-----------------------\n",
            "[1, 2, 3, 4, 5, 6, 7, 8, 9, 10, 11, 12, 0, 13, 14, 15] \n",
            "\n",
            "[1, 2, 3, 4, 5, 6, 7, 8, 9, 10, 11, 12, 13, 14, 15, 0]\n",
            "Length of solution:  3\n",
            "Nodes Expanded= 3\n",
            "-----------------------\n",
            "['r', 'r']\n",
            "-----------------------\n",
            "[1, 2, 3, 4, 5, 6, 7, 8, 9, 10, 11, 12, 13, 0, 14, 15] \n",
            "\n",
            "[1, 2, 3, 4, 5, 6, 7, 8, 9, 10, 11, 12, 13, 14, 15, 0]\n",
            "Length of solution:  2\n",
            "Nodes Expanded= 2\n",
            "-----------------------\n",
            "['d', 'd', 'r', 'r', 'u', 'l', 'd', 'l', 'u', 'r', 'd', 'r', 'u', 'l', 'd', 'l', 'u', 'r', 'd', 'r', 'u', 'l', 'd', 'l', 'u', 'r', 'r', 'd', 'l', 'u', 'l', 'd', 'r', 'r']\n",
            "-----------------------\n",
            "[1, 2, 3, 4, 5, 0, 7, 8, 9, 6, 11, 10, 13, 14, 12, 15] \n",
            "\n",
            "[1, 2, 3, 4, 5, 6, 7, 8, 9, 10, 11, 12, 13, 14, 15, 0]\n",
            "Length of solution:  34\n",
            "Nodes Expanded= 247\n",
            "-----------------------\n",
            "['r', 'd', 'r', 'r', 'u', 'l', 'd', 'l', 'u', 'r', 'd', 'r', 'u', 'l', 'd', 'l', 'u', 'r', 'd', 'r', 'u', 'l', 'd', 'l', 'u', 'r', 'r', 'd', 'l', 'u', 'l', 'd', 'r', 'r']\n",
            "-----------------------\n",
            "[1, 2, 3, 4, 5, 6, 7, 8, 0, 9, 11, 10, 13, 14, 12, 15] \n",
            "\n",
            "[1, 2, 3, 4, 5, 6, 7, 8, 9, 10, 11, 12, 13, 14, 15, 0]\n",
            "Length of solution:  34\n",
            "Nodes Expanded= 247\n",
            "-----------------------\n",
            "-------\n",
            "[('1234567891101013141215', 'ldrruldlurdruldlurdruldlurrdluldrr', 277), ('1234567891011120131415', 'rrr', 3), ('1234567091011813141512', 'dd', 2), ('1234567891101213101415', 'ldrr', 4), ('1234560791011813141512', 'rdd', 3), ('1234567891011121314015', 'r', 1), ('1234567891011120131415', 'rrr', 3), ('1234567891011121301415', 'rr', 2), ('1234507896111013141215', 'ddrruldlurdruldlurdruldlurrdluldrr', 247), ('1234567809111013141215', 'rdrruldlurdruldlurdruldlurrdluldrr', 247)]\n"
          ]
        }
      ]
    },
    {
      "cell_type": "code",
      "metadata": {
        "colab": {
          "base_uri": "https://localhost:8080/"
        },
        "id": "rQw9QKTCMvBY",
        "outputId": "cb63be55-d68e-47ec-e0ae-e9b8087c45e6"
      },
      "source": [
        "### Best First\n",
        "bestFirstSearchf = lambda n: ManhattanDistance(n.State, GoalState)\n",
        "testProblems = [\n",
        "    [1, 2, 3, 4, 5, 6, 7, 8, 9, 11, 0, 10, 13, 14, 12, 15],\n",
        "    [1, 2, 3, 4, 5, 6, 7, 8, 9, 10, 11, 12, 0, 13, 14, 15],\n",
        "    [1, 2, 3, 4, 5, 6, 7, 0, 9, 10, 11, 8, 13, 14, 15, 12],\n",
        "    [1, 2, 3, 4, 5, 6, 7, 8, 9, 11, 0, 12, 13, 10, 14, 15],\n",
        "    [1, 2, 3, 4, 5, 6, 0, 7, 9, 10, 11, 8, 13, 14, 15, 12],\n",
        "    [1, 2, 3, 4, 5, 6, 7, 8, 9, 10, 11, 12, 13, 14, 0, 15],\n",
        "    [1, 2, 3, 4, 5, 6, 7, 8, 9, 10, 11, 12, 0, 13, 14, 15],\n",
        "    [1, 2, 3, 4, 5, 6, 7, 8, 9, 10, 11, 12, 13, 0, 14, 15],\n",
        "    [1, 2, 3, 4, 5, 0, 7, 8, 9, 6, 11, 10, 13, 14, 12, 15],\n",
        "    [1, 2, 3, 4, 5, 6, 7, 8, 0, 9, 11, 10, 13, 14, 12, 15],\n",
        "]\n",
        "\n",
        "Solutions = []\n",
        "for s in testProblems:\n",
        "  TileSliding.INITIAL = s\n",
        "  ret, cost = BestFirstSearch(TileSliding, bestFirstSearchf)\n",
        "  sol = Solution(ret)\n",
        "  print (sol)\n",
        "  print (\"-----------------------\")\n",
        "  print (TileSliding.INITIAL,'\\n')\n",
        "  print (ApplyMoves(sol, TileSliding.INITIAL))\n",
        "  print (\"Length of solution: \", len(sol))\n",
        "  print (\"Nodes Expanded=\", cost)\n",
        "  print (\"-----------------------\")\n",
        "  Solutions.append((''.join(map(str, s)), ''.join(sol), cost))\n",
        "print (\"-------\")\n",
        "print (Solutions)"
      ],
      "execution_count": 226,
      "outputs": [
        {
          "output_type": "stream",
          "name": "stdout",
          "text": [
            "['d', 'r', 'u', 'l', 'l', 'd', 'r', 'r', 'u', 'l', 'd', 'l', 'u', 'r', 'r', 'd']\n",
            "-----------------------\n",
            "[1, 2, 3, 4, 5, 6, 7, 8, 9, 11, 0, 10, 13, 14, 12, 15] \n",
            "\n",
            "[1, 2, 3, 4, 5, 6, 7, 8, 9, 10, 11, 12, 13, 14, 15, 0]\n",
            "Length of solution:  16\n",
            "Nodes Expanded= 95\n",
            "-----------------------\n",
            "['r', 'r', 'r']\n",
            "-----------------------\n",
            "[1, 2, 3, 4, 5, 6, 7, 8, 9, 10, 11, 12, 0, 13, 14, 15] \n",
            "\n",
            "[1, 2, 3, 4, 5, 6, 7, 8, 9, 10, 11, 12, 13, 14, 15, 0]\n",
            "Length of solution:  3\n",
            "Nodes Expanded= 3\n",
            "-----------------------\n",
            "['d', 'd']\n",
            "-----------------------\n",
            "[1, 2, 3, 4, 5, 6, 7, 0, 9, 10, 11, 8, 13, 14, 15, 12] \n",
            "\n",
            "[1, 2, 3, 4, 5, 6, 7, 8, 9, 10, 11, 12, 13, 14, 15, 0]\n",
            "Length of solution:  2\n",
            "Nodes Expanded= 2\n",
            "-----------------------\n",
            "['l', 'd', 'r', 'r']\n",
            "-----------------------\n",
            "[1, 2, 3, 4, 5, 6, 7, 8, 9, 11, 0, 12, 13, 10, 14, 15] \n",
            "\n",
            "[1, 2, 3, 4, 5, 6, 7, 8, 9, 10, 11, 12, 13, 14, 15, 0]\n",
            "Length of solution:  4\n",
            "Nodes Expanded= 4\n",
            "-----------------------\n",
            "['r', 'd', 'd']\n",
            "-----------------------\n",
            "[1, 2, 3, 4, 5, 6, 0, 7, 9, 10, 11, 8, 13, 14, 15, 12] \n",
            "\n",
            "[1, 2, 3, 4, 5, 6, 7, 8, 9, 10, 11, 12, 13, 14, 15, 0]\n",
            "Length of solution:  3\n",
            "Nodes Expanded= 3\n",
            "-----------------------\n",
            "['r']\n",
            "-----------------------\n",
            "[1, 2, 3, 4, 5, 6, 7, 8, 9, 10, 11, 12, 13, 14, 0, 15] \n",
            "\n",
            "[1, 2, 3, 4, 5, 6, 7, 8, 9, 10, 11, 12, 13, 14, 15, 0]\n",
            "Length of solution:  1\n",
            "Nodes Expanded= 1\n",
            "-----------------------\n",
            "['r', 'r', 'r']\n",
            "-----------------------\n",
            "[1, 2, 3, 4, 5, 6, 7, 8, 9, 10, 11, 12, 0, 13, 14, 15] \n",
            "\n",
            "[1, 2, 3, 4, 5, 6, 7, 8, 9, 10, 11, 12, 13, 14, 15, 0]\n",
            "Length of solution:  3\n",
            "Nodes Expanded= 3\n",
            "-----------------------\n",
            "['r', 'r']\n",
            "-----------------------\n",
            "[1, 2, 3, 4, 5, 6, 7, 8, 9, 10, 11, 12, 13, 0, 14, 15] \n",
            "\n",
            "[1, 2, 3, 4, 5, 6, 7, 8, 9, 10, 11, 12, 13, 14, 15, 0]\n",
            "Length of solution:  2\n",
            "Nodes Expanded= 2\n",
            "-----------------------\n",
            "['d', 'r', 'd', 'r', 'u', 'l', 'l', 'd', 'r', 'r', 'u', 'l', 'd', 'l', 'u', 'r', 'r', 'd']\n",
            "-----------------------\n",
            "[1, 2, 3, 4, 5, 0, 7, 8, 9, 6, 11, 10, 13, 14, 12, 15] \n",
            "\n",
            "[1, 2, 3, 4, 5, 6, 7, 8, 9, 10, 11, 12, 13, 14, 15, 0]\n",
            "Length of solution:  18\n",
            "Nodes Expanded= 97\n",
            "-----------------------\n",
            "['r', 'r', 'd', 'r', 'u', 'l', 'l', 'd', 'r', 'r', 'u', 'l', 'd', 'l', 'u', 'r', 'r', 'd']\n",
            "-----------------------\n",
            "[1, 2, 3, 4, 5, 6, 7, 8, 0, 9, 11, 10, 13, 14, 12, 15] \n",
            "\n",
            "[1, 2, 3, 4, 5, 6, 7, 8, 9, 10, 11, 12, 13, 14, 15, 0]\n",
            "Length of solution:  18\n",
            "Nodes Expanded= 96\n",
            "-----------------------\n",
            "-------\n",
            "[('1234567891101013141215', 'drulldrruldlurrd', 95), ('1234567891011120131415', 'rrr', 3), ('1234567091011813141512', 'dd', 2), ('1234567891101213101415', 'ldrr', 4), ('1234560791011813141512', 'rdd', 3), ('1234567891011121314015', 'r', 1), ('1234567891011120131415', 'rrr', 3), ('1234567891011121301415', 'rr', 2), ('1234507896111013141215', 'drdrulldrruldlurrd', 97), ('1234567809111013141215', 'rrdrulldrruldlurrd', 96)]\n"
          ]
        }
      ]
    },
    {
      "cell_type": "markdown",
      "metadata": {
        "id": "TFLhS5QmxRz2"
      },
      "source": [
        "# Domain 2"
      ]
    },
    {
      "cell_type": "code",
      "metadata": {
        "id": "PqDD8fsrxXK7"
      },
      "source": [
        "VectorWorldDim = 16\n",
        "VectorWorld = Problem()\n",
        "VectorWorld.INITIAL = [0]\n",
        "VectorWorld.IsGoal = lambda s: s==[15,] or s==(15,)\n",
        "VectorWorld.Actions = lambda s: ['Left', 'Right']\n",
        "## TileSliding.Result=VectorWorldResult\n",
        "VectorWorld.ActionCost = lambda s, a, sPrime: 1"
      ],
      "execution_count": 227,
      "outputs": []
    },
    {
      "cell_type": "code",
      "metadata": {
        "id": "uWNR8AQJyCN7"
      },
      "source": [
        "def VectorWorldResult(state, action):\n",
        "  if action=='Left':\n",
        "    return [(state[0]+VectorWorldDim-1)%VectorWorldDim]\n",
        "  else:\n",
        "    return [(state[0]+1)%VectorWorldDim]\n",
        "VectorWorld.Result=VectorWorldResult\n"
      ],
      "execution_count": 228,
      "outputs": []
    },
    {
      "cell_type": "code",
      "metadata": {
        "colab": {
          "base_uri": "https://localhost:8080/"
        },
        "id": "Ox26cyPP2xba",
        "outputId": "edd48c06-e57f-43a8-cc33-dc2a2a28b101"
      },
      "source": [
        "print (VectorWorld.IsGoal((15,)))"
      ],
      "execution_count": 229,
      "outputs": [
        {
          "output_type": "stream",
          "name": "stdout",
          "text": [
            "True\n"
          ]
        }
      ]
    },
    {
      "cell_type": "code",
      "metadata": {
        "colab": {
          "base_uri": "https://localhost:8080/"
        },
        "id": "SBfeM9Vbykci",
        "outputId": "1033e30d-271b-4161-85a3-5ae11a93a422"
      },
      "source": [
        "ret, cost = BreadthFirstSearch(VectorWorld)\n",
        "print (\"ret=\", ret)\n",
        "sol = Solution(ret)\n",
        "print (sol)\n"
      ],
      "execution_count": 230,
      "outputs": [
        {
          "output_type": "stream",
          "name": "stdout",
          "text": [
            "ret= [15], Left\n",
            "['Left']\n"
          ]
        }
      ]
    },
    {
      "cell_type": "code",
      "metadata": {
        "id": "dAbJ75Ym4WmP"
      },
      "source": [
        "VectorWorld.INITIAL = [12]"
      ],
      "execution_count": 231,
      "outputs": []
    },
    {
      "cell_type": "code",
      "metadata": {
        "colab": {
          "base_uri": "https://localhost:8080/"
        },
        "id": "QGO1VglP4Zq6",
        "outputId": "db6020d6-72ec-4529-ce76-8e729f1084d6"
      },
      "source": [
        "ret, cost = BreadthFirstSearch(VectorWorld)\n",
        "print (\"ret=\", ret)\n",
        "sol = Solution(ret)\n",
        "print (sol)"
      ],
      "execution_count": 232,
      "outputs": [
        {
          "output_type": "stream",
          "name": "stdout",
          "text": [
            "ret= [15], Right\n",
            "['Right', 'Right', 'Right']\n"
          ]
        }
      ]
    }
  ]
}